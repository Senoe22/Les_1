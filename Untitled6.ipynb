{
 "cells": [
  {
   "cell_type": "code",
   "execution_count": 80,
   "metadata": {},
   "outputs": [
    {
     "name": "stdout",
     "output_type": "stream",
     "text": [
      "Результат: {98, 35, 15, 213, 54, 119}\n"
     ]
    }
   ],
   "source": [
    "# Задача 1\n",
    "ids = {'user1': [213, 213, 213, 15, 213],\n",
    "       'user2': [54, 54, 119, 119, 119],\n",
    "       'user3': [213, 98, 98, 35]}\n",
    "ids_list = list(ids.items())\n",
    "i = 0\n",
    "list_sum = []\n",
    "for item in ids:\n",
    "    list_sum += ids_list[i][1]\n",
    "    i += 1\n",
    "res = set(list_sum)\n",
    "print('Результат:', res)\n"
   ]
  },
  {
   "cell_type": "code",
   "execution_count": 101,
   "metadata": {},
   "outputs": [
    {
     "name": "stdout",
     "output_type": "stream",
     "text": [
      "Результат:\n",
      "Поисковых запросов, содержащих  3 слов(а): 57.14285714285714 %\n",
      "Поисковых запросов, содержащих  2 слов(а): 42.857142857142854 %\n"
     ]
    }
   ],
   "source": [
    "# Задача 2\n",
    "queries = [\n",
    "    'смотреть сериалы онлайн', \n",
    "    'новости спорта', \n",
    "    'афиша кино', \n",
    "    'курс доллара', \n",
    "    'сериалы этим летом', \n",
    "    'курс по питону', \n",
    "    'сериалы про спорт'\n",
    "    ]\n",
    "i = 0\n",
    "n = []\n",
    "for item in queries:\n",
    "    a = len(queries[i].split(' '))\n",
    "    n.append(a)\n",
    "    i += 1\n",
    "    \n",
    "result = {i:n.count(i) for i in n}\n",
    "print('Результат:')\n",
    "for key, value in result.items():\n",
    "    print(\"Поисковых запросов, содержащих \",key, \"слов(а):\", value/len(n)*100, '%')"
   ]
  },
  {
   "cell_type": "code",
   "execution_count": 155,
   "metadata": {
    "scrolled": false
   },
   "outputs": [
    {
     "name": "stdout",
     "output_type": "stream",
     "text": [
      "Результат:\n"
     ]
    },
    {
     "data": {
      "text/plain": [
       "{'adwords': [('ROI', 2.941176470588225), ('cost', 34), ('revenue', 35)],\n",
       " 'facebook': [('ROI', -6.36363636363636), ('cost', 110), ('revenue', 103)],\n",
       " 'twitter': [('ROI', -54.16666666666667), ('cost', 24), ('revenue', 11)],\n",
       " 'vk': [('ROI', 5.102040816326525), ('cost', 98), ('revenue', 103)],\n",
       " 'yandex': [('ROI', 11.111111111111116), ('cost', 153), ('revenue', 170)]}"
      ]
     },
     "execution_count": 155,
     "metadata": {},
     "output_type": "execute_result"
    }
   ],
   "source": [
    "# Задача 3\n",
    "results = {\n",
    "    'vk':{'revenue': 103, 'cost': 98},\n",
    "    'yandex': {'revenue': 170, 'cost': 153},\n",
    "    'facebook': {'revenue': 103, 'cost': 110},\n",
    "    'adwords': {'revenue': 35, 'cost': 34},\n",
    "    'twitter': {'revenue': 11, 'cost': 24},\n",
    "} \n",
    "for key, value in results.items():\n",
    "    results[key]['ROI'] = (results[key]['revenue'] / results[key]['cost'] - 1) * 100\n",
    "\n",
    "results_list = list(results.items())\n",
    "results_list_sort  = sorted(results_list)\n",
    "\n",
    "i = 0\n",
    "new_2 = []\n",
    "new_1 = []\n",
    "for item in results_list_sort:\n",
    "    in_results = list(results_list_sort[i][1].items())\n",
    "    in_results[0], in_results[2] = in_results[2], in_results[0]\n",
    "    new_2.append(in_results)\n",
    "    new_1.append(results_list_sort[i][0])\n",
    "    i += 1\n",
    "print('Результат:')\n",
    "dict(zip(new_1, new_2))\n"
   ]
  },
  {
   "cell_type": "code",
   "execution_count": 156,
   "metadata": {},
   "outputs": [
    {
     "name": "stdout",
     "output_type": "stream",
     "text": [
      "Результат: максимальный объем продаж на рекламном канале: vk\n"
     ]
    }
   ],
   "source": [
    "# Задача 4\n",
    "stats = {'facebook': 55, 'yandex' : 115, 'vk': 120, 'google': 99, 'email': 42, 'ok': 98}\n",
    "\n",
    "stats_list = list(stats.items())\n",
    "i = 0     \n",
    "stats_list_val = []\n",
    "for item in stats_list:\n",
    "    stats_list_val.append(stats_list[i][1])\n",
    "    i += 1\n",
    "\n",
    "stat_max = max(stats_list_val)\n",
    "for name, val in stats.items():\n",
    "    if stat_max == val:\n",
    "        print('Результат: максимальный объем продаж на рекламном канале:', name)\n"
   ]
  }
 ],
 "metadata": {
  "kernelspec": {
   "display_name": "Python 3",
   "language": "python",
   "name": "python3"
  },
  "language_info": {
   "codemirror_mode": {
    "name": "ipython",
    "version": 3
   },
   "file_extension": ".py",
   "mimetype": "text/x-python",
   "name": "python",
   "nbconvert_exporter": "python",
   "pygments_lexer": "ipython3",
   "version": "3.8.3"
  }
 },
 "nbformat": 4,
 "nbformat_minor": 4
}
